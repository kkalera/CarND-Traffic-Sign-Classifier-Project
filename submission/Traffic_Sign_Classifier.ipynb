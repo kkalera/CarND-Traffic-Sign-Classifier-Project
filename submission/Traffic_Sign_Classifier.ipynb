{
 "cells": [
  {
   "cell_type": "markdown",
   "metadata": {
    "deletable": true,
    "editable": true
   },
   "source": [
    "# Self-Driving Car Engineer Nanodegree\n",
    "\n",
    "## Deep Learning\n",
    "\n",
    "## Project: Build a Traffic Sign Recognition Classifier\n",
    "\n",
    "In this notebook, a template is provided for you to implement your functionality in stages, which is required to successfully complete this project. If additional code is required that cannot be included in the notebook, be sure that the Python code is successfully imported and included in your submission if necessary. \n",
    "\n",
    "> **Note**: Once you have completed all of the code implementations, you need to finalize your work by exporting the iPython Notebook as an HTML document. Before exporting the notebook to html, all of the code cells need to have been run so that reviewers can see the final implementation and output. You can then export the notebook by using the menu above and navigating to  \\n\",\n",
    "    \"**File -> Download as -> HTML (.html)**. Include the finished document along with this notebook as your submission. \n",
    "\n",
    "In addition to implementing code, there is a writeup to complete. The writeup should be completed in a separate file, which can be either a markdown file or a pdf document. There is a [write up template](https://github.com/udacity/CarND-Traffic-Sign-Classifier-Project/blob/master/writeup_template.md) that can be used to guide the writing process. Completing the code template and writeup template will cover all of the [rubric points](https://review.udacity.com/#!/rubrics/481/view) for this project.\n",
    "\n",
    "The [rubric](https://review.udacity.com/#!/rubrics/481/view) contains \"Stand Out Suggestions\" for enhancing the project beyond the minimum requirements. The stand out suggestions are optional. If you decide to pursue the \"stand out suggestions\", you can include the code in this Ipython notebook and also discuss the results in the writeup file.\n",
    "\n",
    "\n",
    ">**Note:** Code and Markdown cells can be executed using the **Shift + Enter** keyboard shortcut. In addition, Markdown cells can be edited by typically double-clicking the cell to enter edit mode."
   ]
  },
  {
   "cell_type": "code",
   "execution_count": 1,
   "metadata": {
    "collapsed": false,
    "deletable": true,
    "editable": true
   },
   "outputs": [
    {
     "name": "stdout",
     "output_type": "stream",
     "text": [
      "1.4.0\n"
     ]
    }
   ],
   "source": [
    "import tensorflow as tf; print(tf.__version__)"
   ]
  },
  {
   "cell_type": "code",
   "execution_count": 2,
   "metadata": {
    "collapsed": false,
    "deletable": true,
    "editable": true
   },
   "outputs": [],
   "source": [
    "config = tf.ConfigProto()\n",
    "config.gpu_options.allow_growth = True"
   ]
  },
  {
   "cell_type": "markdown",
   "metadata": {
    "deletable": true,
    "editable": true
   },
   "source": [
    "---\n",
    "## Step 0: Load The Data"
   ]
  },
  {
   "cell_type": "code",
   "execution_count": 3,
   "metadata": {
    "collapsed": false,
    "deletable": true,
    "editable": true
   },
   "outputs": [
    {
     "name": "stdout",
     "output_type": "stream",
     "text": [
      "X_train shape: (34799, 32, 32, 3)\n",
      "y_train shape: (34799,)\n",
      "X_test shape: (12630, 32, 32, 3)\n",
      "y_test shape: (12630,)\n",
      "X_test shape: (4410, 32, 32, 3)\n",
      "y_test shape: (4410,)\n"
     ]
    }
   ],
   "source": [
    "# Load pickled data\n",
    "import pickle\n",
    "\n",
    "# TODO: Fill this in based on where you saved the training and testing data\n",
    "\n",
    "training_file = \"traffic-signs-data/train.p\"\n",
    "validation_file= \"traffic-signs-data/valid.p\"\n",
    "testing_file = \"traffic-signs-data/test.p\"\n",
    "\n",
    "with open(training_file, mode='rb') as f:\n",
    "    train = pickle.load(f)\n",
    "with open(validation_file, mode='rb') as f:\n",
    "    valid = pickle.load(f)\n",
    "with open(testing_file, mode='rb') as f:\n",
    "    test = pickle.load(f)\n",
    "    \n",
    "X_train, y_train = train['features'], train['labels']\n",
    "X_valid, y_valid = valid['features'], valid['labels']\n",
    "X_test, y_test = test['features'], test['labels']\n",
    "\n",
    "print(\"X_train shape:\", X_train.shape)\n",
    "print(\"y_train shape:\", y_train.shape)\n",
    "print(\"X_test shape:\", X_test.shape)\n",
    "print(\"y_test shape:\", y_test.shape)\n",
    "print(\"X_test shape:\", X_valid.shape)\n",
    "print(\"y_test shape:\", y_valid.shape)"
   ]
  },
  {
   "cell_type": "markdown",
   "metadata": {
    "deletable": true,
    "editable": true
   },
   "source": [
    "---\n",
    "\n",
    "## Step 1: Dataset Summary & Exploration\n",
    "\n",
    "The pickled data is a dictionary with 4 key/value pairs:\n",
    "\n",
    "- `'features'` is a 4D array containing raw pixel data of the traffic sign images, (num examples, width, height, channels).\n",
    "- `'labels'` is a 1D array containing the label/class id of the traffic sign. The file `signnames.csv` contains id -> name mappings for each id.\n",
    "- `'sizes'` is a list containing tuples, (width, height) representing the original width and height the image.\n",
    "- `'coords'` is a list containing tuples, (x1, y1, x2, y2) representing coordinates of a bounding box around the sign in the image. **THESE COORDINATES ASSUME THE ORIGINAL IMAGE. THE PICKLED DATA CONTAINS RESIZED VERSIONS (32 by 32) OF THESE IMAGES**\n",
    "\n",
    "Complete the basic data summary below. Use python, numpy and/or pandas methods to calculate the data summary rather than hard coding the results. For example, the [pandas shape method](http://pandas.pydata.org/pandas-docs/stable/generated/pandas.DataFrame.shape.html) might be useful for calculating some of the summary results. "
   ]
  },
  {
   "cell_type": "markdown",
   "metadata": {
    "deletable": true,
    "editable": true
   },
   "source": [
    "### Provide a Basic Summary of the Data Set Using Python, Numpy and/or Pandas"
   ]
  },
  {
   "cell_type": "code",
   "execution_count": 4,
   "metadata": {
    "collapsed": false,
    "deletable": true,
    "editable": true
   },
   "outputs": [
    {
     "name": "stdout",
     "output_type": "stream",
     "text": [
      "Number of training examples = 34799\n",
      "Number of testing examples = 12630\n",
      "Image data shape = (32, 32, 3)\n",
      "Number of classes = 43\n"
     ]
    }
   ],
   "source": [
    "import numpy as np\n",
    "### Replace each question mark with the appropriate value. \n",
    "### Use python, pandas or numpy methods rather than hard coding the results\n",
    "\n",
    "# TODO: Number of training examples\n",
    "n_train = len(X_train)\n",
    "\n",
    "# TODO: Number of validation examples\n",
    "n_validation = len(X_valid)\n",
    "\n",
    "# TODO: Number of testing examples.\n",
    "n_test = len(X_test)\n",
    "\n",
    "# TODO: What's the shape of an traffic sign image?\n",
    "image_shape = X_train[0].shape\n",
    "\n",
    "# TODO: How many unique classes/labels there are in the dataset.\n",
    "n_classes = len(set(y_train))\n",
    "\n",
    "assert(len(X_train) == len(y_train))\n",
    "\n",
    "print(\"Number of training examples =\", n_train)\n",
    "print(\"Number of testing examples =\", n_test)\n",
    "print(\"Image data shape =\", image_shape)\n",
    "print(\"Number of classes =\", n_classes)"
   ]
  },
  {
   "cell_type": "markdown",
   "metadata": {
    "deletable": true,
    "editable": true
   },
   "source": [
    "### Include an exploratory visualization of the dataset"
   ]
  },
  {
   "cell_type": "markdown",
   "metadata": {
    "deletable": true,
    "editable": true
   },
   "source": [
    "Visualize the German Traffic Signs Dataset using the pickled file(s). This is open ended, suggestions include: plotting traffic sign images, plotting the count of each sign, etc. \n",
    "\n",
    "The [Matplotlib](http://matplotlib.org/) [examples](http://matplotlib.org/examples/index.html) and [gallery](http://matplotlib.org/gallery.html) pages are a great resource for doing visualizations in Python.\n",
    "\n",
    "**NOTE:** It's recommended you start with something simple first. If you wish to do more, come back to it after you've completed the rest of the sections. It can be interesting to look at the distribution of classes in the training, validation and test set. Is the distribution the same? Are there more examples of some classes than others?"
   ]
  },
  {
   "cell_type": "code",
   "execution_count": 5,
   "metadata": {
    "collapsed": false,
    "deletable": true,
    "editable": true
   },
   "outputs": [
    {
     "data": {
      "image/png": "[encoded data removed]",
      "text/plain": [
       "<matplotlib.figure.Figure at 0x1d524cc1550>"
      ]
     },
     "metadata": {},
     "output_type": "display_data"
    },
    {
     "data": {
      "image/png": "[encoded data removed]",
      "text/plain": [
       "<matplotlib.figure.Figure at 0x1d5288d8668>"
      ]
     },
     "metadata": {},
     "output_type": "display_data"
    },
    {
     "name": "stdout",
     "output_type": "stream",
     "text": [
      "Min number of images per class = 180\n",
      "Max number of images per class = 2010\n"
     ]
    }
   ],
   "source": [
    "### Data exploration visualization code goes here.\n",
    "### Feel free to use as many code cells as needed.\n",
    "import matplotlib.pyplot as plt\n",
    "import random\n",
    "# Visualizations will be shown in the notebook.\n",
    "%matplotlib inline\n",
    "\n",
    "num_of_samples=[]\n",
    "plt.figure(figsize=(12, 16.5))\n",
    "for i in range(0, n_classes):\n",
    "    plt.subplot(11, 4, i+1)\n",
    "    x_selected = X_train[y_train == i]\n",
    "    plt.imshow(x_selected[0, :, :, :]) #draw the first image of each class\n",
    "    plt.title(i)\n",
    "    plt.axis('off')\n",
    "    num_of_samples.append(len(x_selected))\n",
    "plt.show()\n",
    "\n",
    "#Plot number of images per class\n",
    "plt.figure(figsize=(12, 4))\n",
    "plt.bar(range(0, n_classes), num_of_samples)\n",
    "plt.title(\"Distribution of the train dataset\")\n",
    "plt.xlabel(\"Class number\")\n",
    "plt.ylabel(\"Number of images\")\n",
    "plt.show()\n",
    "\n",
    "print(\"Min number of images per class =\", min(num_of_samples))\n",
    "print(\"Max number of images per class =\", max(num_of_samples))"
   ]
  },
  {
   "cell_type": "markdown",
   "metadata": {
    "deletable": true,
    "editable": true
   },
   "source": [
    "----\n",
    "\n",
    "## Step 2: Design and Test a Model Architecture\n",
    "\n",
    "Design and implement a deep learning model that learns to recognize traffic signs. Train and test your model on the [German Traffic Sign Dataset](http://benchmark.ini.rub.de/?section=gtsrb&subsection=dataset).\n",
    "\n",
    "The LeNet-5 implementation shown in the [classroom](https://classroom.udacity.com/nanodegrees/nd013/parts/fbf77062-5703-404e-b60c-95b78b2f3f9e/modules/6df7ae49-c61c-4bb2-a23e-6527e69209ec/lessons/601ae704-1035-4287-8b11-e2c2716217ad/concepts/d4aca031-508f-4e0b-b493-e7b706120f81) at the end of the CNN lesson is a solid starting point. You'll have to change the number of classes and possibly the preprocessing, but aside from that it's plug and play! \n",
    "\n",
    "With the LeNet-5 solution from the lecture, you should expect a validation set accuracy of about 0.89. To meet specifications, the validation set accuracy will need to be at least 0.93. It is possible to get an even higher accuracy, but 0.93 is the minimum for a successful project submission. \n",
    "\n",
    "There are various aspects to consider when thinking about this problem:\n",
    "\n",
    "- Neural network architecture (is the network over or underfitting?)\n",
    "- Play around preprocessing techniques (normalization, rgb to grayscale, etc)\n",
    "- Number of examples per label (some have more than others).\n",
    "- Generate fake data.\n",
    "\n",
    "Here is an example of a [published baseline model on this problem](http://yann.lecun.com/exdb/publis/pdf/sermanet-ijcnn-11.pdf). It's not required to be familiar with the approach used in the paper but, it's good practice to try to read papers like these."
   ]
  },
  {
   "cell_type": "markdown",
   "metadata": {
    "deletable": true,
    "editable": true
   },
   "source": [
    "### Pre-process the Data Set (normalization, grayscale, etc.)"
   ]
  },
  {
   "cell_type": "markdown",
   "metadata": {
    "deletable": true,
    "editable": true
   },
   "source": [
    "Minimally, the image data should be normalized so that the data has mean zero and equal variance. For image data, `(pixel - 128)/ 128` is a quick way to approximately normalize the data and can be used in this project. \n",
    "\n",
    "Other pre-processing steps are optional. You can try different techniques to see if it improves performance. \n",
    "\n",
    "Use the code cell (or multiple code cells, if necessary) to implement the first step of your project."
   ]
  },
  {
   "cell_type": "code",
   "execution_count": 6,
   "metadata": {
    "collapsed": false,
    "deletable": true,
    "editable": true
   },
   "outputs": [],
   "source": [
    "from sklearn.utils import shuffle\n",
    "\n",
    "X_train, y_train = shuffle(X_train, y_train)"
   ]
  },
  {
   "cell_type": "code",
   "execution_count": 7,
   "metadata": {
    "collapsed": false,
    "deletable": true,
    "editable": true
   },
   "outputs": [
    {
     "name": "stdout",
     "output_type": "stream",
     "text": [
      "(34799, 32, 32, 3)\n",
      "(1, 32, 32, 3)\n",
      "(34800, 32, 32, 3)\n"
     ]
    }
   ],
   "source": [
    "test_ar = np.copy(X_train)\n",
    "a = []\n",
    "print(test_ar.shape)\n",
    "a.append(X_train[0])\n",
    "a = np.array(a)\n",
    "print(a.shape)\n",
    "test_ar = np.concatenate((test_ar, a))\n",
    "print(test_ar.shape)"
   ]
  },
  {
   "cell_type": "code",
   "execution_count": 8,
   "metadata": {
    "collapsed": false,
    "deletable": true,
    "editable": true,
    "scrolled": true
   },
   "outputs": [
    {
     "name": "stdout",
     "output_type": "stream",
     "text": [
      "[ 0  1  2  3  4  5  6  7  8  9 10 11 12 13 14 15 16 17 18 19 20 21 22 23 24\n",
      " 25 26 27 28 29 30 31 32 33 34 35 36 37 38 39 40 41 42]\n",
      "[ 180 1980 2010 1260 1770 1650  360 1290 1260 1320 1800 1170 1890 1920  690\n",
      "  540  360  990 1080  180  300  270  330  450  240 1350  540  210  480  240\n",
      "  390  690  210  599  360 1080  330  180 1860  270  300  210  210]\n",
      "Adding 470 images to label 0\n",
      "Added 470 images to label 0\n",
      "\n",
      "Adding 290 images to label 6\n",
      "Added 290 images to label 6\n",
      "\n",
      "Adding 110 images to label 15\n",
      "Added 110 images to label 15\n",
      "\n",
      "Adding 290 images to label 16\n",
      "Added 290 images to label 16\n",
      "\n",
      "Adding 470 images to label 19\n",
      "Added 470 images to label 19\n",
      "\n",
      "Adding 350 images to label 20\n",
      "Added 350 images to label 20\n",
      "\n",
      "Adding 380 images to label 21\n",
      "Added 380 images to label 21\n",
      "\n",
      "Adding 320 images to label 22\n",
      "Added 320 images to label 22\n",
      "\n",
      "Adding 200 images to label 23\n",
      "Added 200 images to label 23\n",
      "\n",
      "Adding 410 images to label 24\n",
      "Added 410 images to label 24\n",
      "\n",
      "Adding 110 images to label 26\n",
      "Added 110 images to label 26\n",
      "\n",
      "Adding 440 images to label 27\n",
      "Added 440 images to label 27\n",
      "\n",
      "Adding 170 images to label 28\n",
      "Added 170 images to label 28\n",
      "\n",
      "Adding 410 images to label 29\n",
      "Added 410 images to label 29\n",
      "\n",
      "Adding 260 images to label 30\n",
      "Added 260 images to label 30\n",
      "\n",
      "Adding 440 images to label 32\n",
      "Added 440 images to label 32\n",
      "\n",
      "Adding 51 images to label 33\n",
      "Added 51 images to label 33\n",
      "\n",
      "Adding 290 images to label 34\n",
      "Added 290 images to label 34\n",
      "\n",
      "Adding 320 images to label 36\n",
      "Added 320 images to label 36\n",
      "\n",
      "Adding 470 images to label 37\n",
      "Added 470 images to label 37\n",
      "\n",
      "Adding 380 images to label 39\n",
      "Added 380 images to label 39\n",
      "\n",
      "Adding 350 images to label 40\n",
      "Added 350 images to label 40\n",
      "\n",
      "Adding 440 images to label 41\n",
      "Added 440 images to label 41\n",
      "\n",
      "Adding 440 images to label 42\n",
      "Added 440 images to label 42\n",
      "\n"
     ]
    }
   ],
   "source": [
    "# Add images for labels with less than 650 images.\n",
    "import cv2\n",
    "import random\n",
    "\n",
    "labels, counts = np.unique(y_train, return_counts=True)\n",
    "print(labels)\n",
    "print(counts)\n",
    "xx = np.copy(X_train)\n",
    "yy = np.copy(y_train)\n",
    "xar = []\n",
    "yar = []\n",
    "for i in range(len(counts)):\n",
    "    if counts[i] < 650:\n",
    "        difference = 650 - counts[i]\n",
    "        indices = [j for j, y in enumerate(y_train) if y == labels[i]]\n",
    "        added = 0\n",
    "        print(\"Adding {} images to label {}\".format(difference, i))\n",
    "        \n",
    "        while added < difference:\n",
    "            # take a random image from the indices to turn.\n",
    "            rand = random.choice(indices)\n",
    "            img = X_train[rand]\n",
    "            \n",
    "            # rotate the image up to 15 degrees\n",
    "            rotation = random.choice(range(-15,15))\n",
    "            rows,cols,_ = img.shape\n",
    "            M = cv2.getRotationMatrix2D((cols/2,rows/2),rotation,1)\n",
    "            flipped = cv2.warpAffine(img,M,(cols,rows))\n",
    "            xar.append(flipped)\n",
    "            yar.append(labels[i])\n",
    "            added += 1\n",
    "            \n",
    "        print(\"Added {} images to label {}\".format(added, i))    \n",
    "        print()\n",
    "        \n",
    "xx = np.concatenate((xx, np.array(xar)))\n",
    "yy = np.concatenate((yy, np.array(yar)))"
   ]
  },
  {
   "cell_type": "code",
   "execution_count": 9,
   "metadata": {
    "collapsed": false,
    "deletable": true,
    "editable": true
   },
   "outputs": [
    {
     "name": "stdout",
     "output_type": "stream",
     "text": [
      "34799\n",
      "42660\n",
      "[ 0  1  2  3  4  5  6  7  8  9 10 11 12 13 14 15 16 17 18 19 20 21 22 23 24\n",
      " 25 26 27 28 29 30 31 32 33 34 35 36 37 38 39 40 41 42]\n",
      "[ 650 1980 2010 1260 1770 1650  650 1290 1260 1320 1800 1170 1890 1920  690\n",
      "  650  650  990 1080  650  650  650  650  650  650 1350  650  650  650  650\n",
      "  650  690  650  650  650 1080  650  650 1860  650  650  650  650]\n",
      "(42660, 32, 32, 3)\n"
     ]
    }
   ],
   "source": [
    "print(len(X_train))\n",
    "print(len(xx))\n",
    "labels, counts = np.unique(yy, return_counts=True)\n",
    "print(labels)\n",
    "print(counts) \n",
    "print(xx.shape)"
   ]
  },
  {
   "cell_type": "code",
   "execution_count": 10,
   "metadata": {
    "collapsed": false,
    "deletable": true,
    "editable": true,
    "scrolled": false
   },
   "outputs": [
    {
     "name": "stdout",
     "output_type": "stream",
     "text": [
      "Train data max: 255.0, min: 0.0, average: 82.41818115501482\n",
      "Test data max: 255.0, min: 4.0, average: 82.14846036120173\n",
      "Validation data max: 255.0, min: 5.0, average: 83.55642737563775\n",
      "\n",
      "Train data shape:  (42660, 32, 32, 1)\n",
      "Test data shape:  (12630, 32, 32, 1)\n",
      "Validation data shape:  (4410, 32, 32, 1)\n"
     ]
    }
   ],
   "source": [
    "# Conversion to grayscale because lenet only accepts single channel images\n",
    "\n",
    "x_train_gray = np.sum(xx/3, axis=3, keepdims=True)\n",
    "x_test_gray = np.sum(X_test/3, axis=3, keepdims=True)\n",
    "x_valid_gray = np.sum(X_valid/3, axis=3, keepdims=True)\n",
    "\n",
    "print(\"Train data max: {}, min: {}, average: {}\"\n",
    "      .format(np.max(x_train_gray), np.min(x_train_gray), np.mean(x_train_gray)))\n",
    "print(\"Test data max: {}, min: {}, average: {}\"\n",
    "      .format(np.max(x_test_gray), np.min(x_test_gray), np.mean(x_test_gray)))\n",
    "print(\"Validation data max: {}, min: {}, average: {}\"\n",
    "      .format(np.max(x_valid_gray), np.min(x_valid_gray), np.mean(x_valid_gray)))\n",
    "print(\"\")\n",
    "print(\"Train data shape: \", x_train_gray.shape)\n",
    "print(\"Test data shape: \", x_test_gray.shape)\n",
    "print(\"Validation data shape: \", x_valid_gray.shape)"
   ]
  },
  {
   "cell_type": "code",
   "execution_count": 11,
   "metadata": {
    "collapsed": false,
    "deletable": true,
    "editable": true
   },
   "outputs": [
    {
     "name": "stdout",
     "output_type": "stream",
     "text": [
      "Train data max: 1.0, min: 0.0, average: 0.3232085535490769\n",
      "Test data max: 1.0, min: 0.01568627450980392, average: 0.32215082494588987\n",
      "Validation data max: 1.0, min: 0.0196078431372549, average: 0.3276722642181872\n"
     ]
    }
   ],
   "source": [
    "### Preprocess the data here. It is required to normalize the data. Other preprocessing steps could include \n",
    "### converting to grayscale, etc.\n",
    "### Feel free to use as many code cells as needed.\n",
    "\n",
    "x_train_norm = x_train_gray * (255 / x_train_gray.max()) /255\n",
    "x_test_norm = x_test_gray * (255 / x_test_gray.max()) /255\n",
    "x_valid_norm = x_valid_gray * (255/x_valid_gray.max()) /255\n",
    "\n",
    "print(\"Train data max: {}, min: {}, average: {}\"\n",
    "      .format(np.max(x_train_norm), np.min(x_train_norm), np.mean(x_train_norm)))\n",
    "print(\"Test data max: {}, min: {}, average: {}\"\n",
    "      .format(np.max(x_test_norm), np.min(x_test_norm), np.mean(x_test_norm)))\n",
    "print(\"Validation data max: {}, min: {}, average: {}\"\n",
    "      .format(np.max(x_valid_norm), np.min(x_valid_norm), np.mean(x_valid_norm)))"
   ]
  },
  {
   "cell_type": "markdown",
   "metadata": {
    "deletable": true,
    "editable": true
   },
   "source": [
    "### Model Architecture"
   ]
  },
  {
   "cell_type": "code",
   "execution_count": 12,
   "metadata": {
    "collapsed": false,
    "deletable": true,
    "editable": true
   },
   "outputs": [],
   "source": [
    "### Define your architecture here.\n",
    "### Feel free to use as many code cells as needed.\n",
    "\n",
    "from tensorflow.contrib.layers import flatten\n",
    "\n",
    "def LeNet(x):    \n",
    "    # Arguments used for tf.truncated_normal, randomly defines variables for the weights and biases for each layer\n",
    "    mu = 0\n",
    "    sigma = 0.1\n",
    "    \n",
    "    # SOLUTION: Layer 1: Convolutional. Input = 32x32x1. Output = 28x28x6.\n",
    "    conv1_W = tf.Variable(tf.truncated_normal(shape=(5, 5, 1, 6), mean = mu, stddev = sigma))\n",
    "    conv1_b = tf.Variable(tf.zeros(6))\n",
    "    conv1   = tf.nn.conv2d(x, conv1_W, strides=[1, 1, 1, 1], padding='VALID') + conv1_b\n",
    "\n",
    "    # SOLUTION: Activation.\n",
    "    conv1 = tf.nn.relu(conv1)\n",
    "\n",
    "    # SOLUTION: Pooling. Input = 28x28x6. Output = 14x14x6.\n",
    "    conv1 = tf.nn.max_pool(conv1, ksize=[1, 2, 2, 1], strides=[1, 2, 2, 1], padding='VALID')\n",
    "\n",
    "    # SOLUTION: Layer 2: Convolutional. Output = 10x10x16.\n",
    "    conv2_W = tf.Variable(tf.truncated_normal(shape=(5, 5, 6, 16), mean = mu, stddev = sigma))\n",
    "    conv2_b = tf.Variable(tf.zeros(16))\n",
    "    conv2   = tf.nn.conv2d(conv1, conv2_W, strides=[1, 1, 1, 1], padding='VALID') + conv2_b\n",
    "    \n",
    "    # SOLUTION: Activation.\n",
    "    conv2 = tf.nn.relu(conv2)\n",
    "\n",
    "    # SOLUTION: Pooling. Input = 10x10x16. Output = 5x5x16.\n",
    "    conv2 = tf.nn.max_pool(conv2, ksize=[1, 2, 2, 1], strides=[1, 2, 2, 1], padding='VALID')\n",
    "\n",
    "    # SOLUTION: Flatten. Input = 5x5x16. Output = 400.\n",
    "    fc0   = flatten(conv2)\n",
    "    \n",
    "    # SOLUTION: Layer 3: Fully Connected. Input = 400. Output = 120.\n",
    "    fc1_W = tf.Variable(tf.truncated_normal(shape=(400, 240), mean = mu, stddev = sigma))\n",
    "    fc1_b = tf.Variable(tf.zeros(240))\n",
    "    fc1   = tf.matmul(fc0, fc1_W) + fc1_b\n",
    "    \n",
    "    # SOLUTION: Activation.\n",
    "    fc1    = tf.nn.relu(fc1)\n",
    "    #fc1 = tf.nn.dropout(fc1, 0.2)\n",
    "\n",
    "    # SOLUTION: Layer 4: Fully Connected. Input = 120. Output = 84.\n",
    "    fc2_W  = tf.Variable(tf.truncated_normal(shape=(240, 120), mean = mu, stddev = sigma))\n",
    "    fc2_b  = tf.Variable(tf.zeros(120))\n",
    "    fc2    = tf.matmul(fc1, fc2_W) + fc2_b\n",
    "    \n",
    "    # SOLUTION: Activation.\n",
    "    fc2    = tf.nn.relu(fc2)\n",
    "    #fc2 = tf.nn.dropout(fc2, 0.5)\n",
    "\n",
    "    # SOLUTION: Layer 5: Fully Connected. Input = 84. Output = 10.\n",
    "    fc3_W  = tf.Variable(tf.truncated_normal(shape=(120, 84), mean = mu, stddev = sigma))\n",
    "    fc3_b  = tf.Variable(tf.zeros(84))\n",
    "    fc3 = tf.matmul(fc2, fc3_W) + fc3_b\n",
    "    fc3    = tf.nn.relu(fc3)\n",
    "    \n",
    "    # SOLUTION: Layer 5: Fully Connected. Input = 84. Output = 10.\n",
    "    fc4_W  = tf.Variable(tf.truncated_normal(shape=(84, 43), mean = mu, stddev = sigma))\n",
    "    fc4_b  = tf.Variable(tf.zeros(43))\n",
    "    logits = tf.matmul(fc3, fc4_W) + fc4_b\n",
    "    \n",
    "    return logits"
   ]
  },
  {
   "cell_type": "markdown",
   "metadata": {
    "deletable": true,
    "editable": true
   },
   "source": [
    "### Train, Validate and Test the Model"
   ]
  },
  {
   "cell_type": "markdown",
   "metadata": {
    "deletable": true,
    "editable": true
   },
   "source": [
    "A validation set can be used to assess how well the model is performing. A low accuracy on the training and validation\n",
    "sets imply underfitting. A high accuracy on the training set but low accuracy on the validation set implies overfitting."
   ]
  },
  {
   "cell_type": "code",
   "execution_count": 13,
   "metadata": {
    "collapsed": false,
    "deletable": true,
    "editable": true,
    "scrolled": true
   },
   "outputs": [],
   "source": [
    "### Train your model here.\n",
    "### Calculate and report the accuracy on the training and validation set.\n",
    "### Once a final model architecture is selected, \n",
    "### the accuracy on the test set should be calculated and reported as well.\n",
    "### Feel free to use as many code cells as needed.\n",
    "import tensorflow as tf\n",
    "tf.reset_default_graph() \n",
    "\n",
    "x = tf.placeholder(tf.float32, (None, 32, 32, 1))\n",
    "y = tf.placeholder(tf.int32, (None))\n",
    "one_hot_y = tf.one_hot(y, n_classes)\n",
    "\n",
    "rate = 0.001\n",
    "\n",
    "logits = LeNet(x)\n",
    "cross_entropy = tf.nn.softmax_cross_entropy_with_logits(labels=one_hot_y, logits=logits)\n",
    "loss_operation = tf.reduce_mean(cross_entropy)\n",
    "optimizer = tf.train.AdamOptimizer(learning_rate = rate)\n",
    "training_operation = optimizer.minimize(loss_operation)"
   ]
  },
  {
   "cell_type": "code",
   "execution_count": 14,
   "metadata": {
    "collapsed": false,
    "deletable": true,
    "editable": true
   },
   "outputs": [],
   "source": [
    "correct_prediction = tf.equal(tf.argmax(logits, 1), tf.argmax(one_hot_y, 1))\n",
    "accuracy_operation = tf.reduce_mean(tf.cast(correct_prediction, tf.float32))\n",
    "saver = tf.train.Saver()\n",
    "\n",
    "def evaluate(X_data, y_data):\n",
    "    num_examples = len(X_data)\n",
    "    total_accuracy = 0\n",
    "    sess = tf.get_default_session()\n",
    "    for offset in range(0, num_examples, BATCH_SIZE):\n",
    "        batch_x, batch_y = X_data[offset:offset+BATCH_SIZE], y_data[offset:offset+BATCH_SIZE]\n",
    "        accuracy = sess.run(accuracy_operation, feed_dict={x: batch_x, y: batch_y})\n",
    "        total_accuracy += (accuracy * len(batch_x))\n",
    "    return total_accuracy / num_examples"
   ]
  },
  {
   "cell_type": "code",
   "execution_count": 15,
   "metadata": {
    "collapsed": false,
    "deletable": true,
    "editable": true,
    "scrolled": true
   },
   "outputs": [
    {
     "name": "stdout",
     "output_type": "stream",
     "text": [
      "Training...\n",
      "\n",
      "EPOCH 1 ...\n",
      "Training Accuracy = 0.911\n",
      "Validation Accuracy = 0.839\n",
      "\n",
      "EPOCH 2 ...\n",
      "Training Accuracy = 0.955\n",
      "Validation Accuracy = 0.885\n",
      "\n",
      "EPOCH 3 ...\n",
      "Training Accuracy = 0.977\n",
      "Validation Accuracy = 0.911\n",
      "\n",
      "EPOCH 4 ...\n",
      "Training Accuracy = 0.984\n",
      "Validation Accuracy = 0.921\n",
      "\n",
      "EPOCH 5 ...\n",
      "Training Accuracy = 0.986\n",
      "Validation Accuracy = 0.941\n",
      "\n",
      "EPOCH 6 ...\n",
      "Training Accuracy = 0.988\n",
      "Validation Accuracy = 0.937\n",
      "\n",
      "EPOCH 7 ...\n",
      "Training Accuracy = 0.990\n",
      "Validation Accuracy = 0.931\n",
      "\n",
      "EPOCH 8 ...\n",
      "Training Accuracy = 0.990\n",
      "Validation Accuracy = 0.929\n",
      "\n",
      "EPOCH 9 ...\n",
      "Training Accuracy = 0.989\n",
      "Validation Accuracy = 0.939\n",
      "\n",
      "EPOCH 10 ...\n",
      "Training Accuracy = 0.990\n",
      "Validation Accuracy = 0.932\n",
      "\n",
      "EPOCH 11 ...\n",
      "Training Accuracy = 0.997\n",
      "Validation Accuracy = 0.937\n",
      "\n",
      "EPOCH 12 ...\n",
      "Training Accuracy = 0.994\n",
      "Validation Accuracy = 0.941\n",
      "\n",
      "EPOCH 13 ...\n",
      "Training Accuracy = 0.996\n",
      "Validation Accuracy = 0.943\n",
      "\n",
      "EPOCH 14 ...\n",
      "Training Accuracy = 0.993\n",
      "Validation Accuracy = 0.929\n",
      "\n",
      "EPOCH 15 ...\n",
      "Training Accuracy = 0.997\n",
      "Validation Accuracy = 0.944\n",
      "\n",
      "EPOCH 16 ...\n",
      "Training Accuracy = 0.996\n",
      "Validation Accuracy = 0.938\n",
      "\n",
      "EPOCH 17 ...\n",
      "Training Accuracy = 0.997\n",
      "Validation Accuracy = 0.936\n",
      "\n",
      "EPOCH 18 ...\n",
      "Training Accuracy = 0.999\n",
      "Validation Accuracy = 0.958\n",
      "\n",
      "EPOCH 19 ...\n",
      "Training Accuracy = 0.996\n",
      "Validation Accuracy = 0.940\n",
      "\n",
      "EPOCH 20 ...\n",
      "Training Accuracy = 0.998\n",
      "Validation Accuracy = 0.943\n",
      "\n",
      "EPOCH 21 ...\n",
      "Training Accuracy = 0.997\n",
      "Validation Accuracy = 0.951\n",
      "\n",
      "EPOCH 22 ...\n",
      "Training Accuracy = 0.998\n",
      "Validation Accuracy = 0.955\n",
      "\n",
      "EPOCH 23 ...\n",
      "Training Accuracy = 0.998\n",
      "Validation Accuracy = 0.951\n",
      "\n",
      "EPOCH 24 ...\n",
      "Training Accuracy = 0.996\n",
      "Validation Accuracy = 0.944\n",
      "\n",
      "EPOCH 25 ...\n",
      "Training Accuracy = 0.998\n",
      "Validation Accuracy = 0.950\n",
      "\n",
      "EPOCH 26 ...\n",
      "Training Accuracy = 0.997\n",
      "Validation Accuracy = 0.944\n",
      "\n",
      "EPOCH 27 ...\n",
      "Training Accuracy = 1.000\n",
      "Validation Accuracy = 0.954\n",
      "\n",
      "EPOCH 28 ...\n",
      "Training Accuracy = 0.989\n",
      "Validation Accuracy = 0.940\n",
      "\n",
      "EPOCH 29 ...\n",
      "Training Accuracy = 0.997\n",
      "Validation Accuracy = 0.944\n",
      "\n",
      "EPOCH 30 ...\n",
      "Training Accuracy = 1.000\n",
      "Validation Accuracy = 0.949\n",
      "\n",
      "EPOCH 31 ...\n",
      "Training Accuracy = 0.996\n",
      "Validation Accuracy = 0.941\n",
      "\n",
      "EPOCH 32 ...\n",
      "Training Accuracy = 0.999\n",
      "Validation Accuracy = 0.950\n",
      "\n",
      "EPOCH 33 ...\n",
      "Training Accuracy = 0.996\n",
      "Validation Accuracy = 0.938\n",
      "\n",
      "EPOCH 34 ...\n",
      "Training Accuracy = 0.998\n",
      "Validation Accuracy = 0.949\n",
      "\n",
      "EPOCH 35 ...\n",
      "Training Accuracy = 0.999\n",
      "Validation Accuracy = 0.960\n",
      "\n",
      "EPOCH 36 ...\n",
      "Training Accuracy = 0.997\n",
      "Validation Accuracy = 0.949\n",
      "\n",
      "EPOCH 37 ...\n",
      "Training Accuracy = 0.999\n",
      "Validation Accuracy = 0.955\n",
      "\n",
      "EPOCH 38 ...\n",
      "Training Accuracy = 0.998\n",
      "Validation Accuracy = 0.941\n",
      "\n",
      "EPOCH 39 ...\n",
      "Training Accuracy = 0.998\n",
      "Validation Accuracy = 0.949\n",
      "\n",
      "EPOCH 40 ...\n",
      "Training Accuracy = 1.000\n",
      "Validation Accuracy = 0.957\n",
      "\n",
      "EPOCH 41 ...\n",
      "Training Accuracy = 0.997\n",
      "Validation Accuracy = 0.943\n",
      "\n",
      "EPOCH 42 ...\n",
      "Training Accuracy = 0.998\n",
      "Validation Accuracy = 0.947\n",
      "\n",
      "EPOCH 43 ...\n",
      "Training Accuracy = 1.000\n",
      "Validation Accuracy = 0.957\n",
      "\n",
      "EPOCH 44 ...\n",
      "Training Accuracy = 0.996\n",
      "Validation Accuracy = 0.936\n",
      "\n",
      "EPOCH 45 ...\n",
      "Training Accuracy = 1.000\n",
      "Validation Accuracy = 0.953\n",
      "\n",
      "EPOCH 46 ...\n",
      "Training Accuracy = 0.999\n",
      "Validation Accuracy = 0.958\n",
      "\n",
      "EPOCH 47 ...\n",
      "Training Accuracy = 0.999\n",
      "Validation Accuracy = 0.961\n",
      "\n",
      "EPOCH 48 ...\n",
      "Training Accuracy = 0.999\n",
      "Validation Accuracy = 0.956\n",
      "\n",
      "EPOCH 49 ...\n",
      "Training Accuracy = 0.999\n",
      "Validation Accuracy = 0.945\n",
      "\n",
      "EPOCH 50 ...\n",
      "Training Accuracy = 1.000\n",
      "Validation Accuracy = 0.942\n",
      "\n",
      "EPOCH 51 ...\n",
      "Training Accuracy = 1.000\n",
      "Validation Accuracy = 0.956\n",
      "\n",
      "EPOCH 52 ...\n",
      "Training Accuracy = 0.999\n",
      "Validation Accuracy = 0.956\n",
      "\n",
      "EPOCH 53 ...\n",
      "Training Accuracy = 1.000\n",
      "Validation Accuracy = 0.954\n",
      "\n",
      "EPOCH 54 ...\n",
      "Training Accuracy = 0.992\n",
      "Validation Accuracy = 0.945\n",
      "\n",
      "EPOCH 55 ...\n",
      "Training Accuracy = 1.000\n",
      "Validation Accuracy = 0.961\n",
      "\n",
      "EPOCH 56 ...\n",
      "Training Accuracy = 0.999\n",
      "Validation Accuracy = 0.957\n",
      "\n",
      "EPOCH 57 ...\n",
      "Training Accuracy = 0.996\n",
      "Validation Accuracy = 0.924\n",
      "\n",
      "EPOCH 58 ...\n",
      "Training Accuracy = 0.998\n",
      "Validation Accuracy = 0.944\n",
      "\n",
      "EPOCH 59 ...\n",
      "Training Accuracy = 1.000\n",
      "Validation Accuracy = 0.956\n",
      "\n",
      "EPOCH 60 ...\n",
      "Training Accuracy = 0.997\n",
      "Validation Accuracy = 0.948\n",
      "\n",
      "EPOCH 61 ...\n",
      "Training Accuracy = 0.998\n",
      "Validation Accuracy = 0.939\n",
      "\n",
      "EPOCH 62 ...\n",
      "Training Accuracy = 0.997\n",
      "Validation Accuracy = 0.936\n",
      "\n",
      "EPOCH 63 ...\n",
      "Training Accuracy = 0.999\n",
      "Validation Accuracy = 0.948\n",
      "\n",
      "EPOCH 64 ...\n",
      "Training Accuracy = 0.999\n",
      "Validation Accuracy = 0.947\n",
      "\n",
      "EPOCH 65 ...\n",
      "Training Accuracy = 0.999\n",
      "Validation Accuracy = 0.948\n",
      "\n",
      "EPOCH 66 ...\n",
      "Training Accuracy = 0.999\n",
      "Validation Accuracy = 0.950\n",
      "\n",
      "EPOCH 67 ...\n",
      "Training Accuracy = 0.998\n",
      "Validation Accuracy = 0.950\n",
      "\n",
      "EPOCH 68 ...\n",
      "Training Accuracy = 0.997\n",
      "Validation Accuracy = 0.941\n",
      "\n",
      "EPOCH 69 ...\n",
      "Training Accuracy = 1.000\n",
      "Validation Accuracy = 0.966\n",
      "\n",
      "EPOCH 70 ...\n",
      "Training Accuracy = 1.000\n",
      "Validation Accuracy = 0.967\n",
      "\n",
      "EPOCH 71 ...\n",
      "Training Accuracy = 0.997\n",
      "Validation Accuracy = 0.937\n",
      "\n",
      "EPOCH 72 ...\n",
      "Training Accuracy = 0.999\n",
      "Validation Accuracy = 0.964\n",
      "\n",
      "EPOCH 73 ...\n",
      "Training Accuracy = 0.996\n",
      "Validation Accuracy = 0.936\n",
      "\n",
      "EPOCH 74 ...\n",
      "Training Accuracy = 1.000\n",
      "Validation Accuracy = 0.965\n",
      "\n",
      "EPOCH 75 ...\n",
      "Training Accuracy = 0.995\n",
      "Validation Accuracy = 0.930\n",
      "\n",
      "EPOCH 76 ...\n",
      "Training Accuracy = 1.000\n",
      "Validation Accuracy = 0.958\n",
      "\n",
      "EPOCH 77 ...\n",
      "Training Accuracy = 1.000\n",
      "Validation Accuracy = 0.956\n",
      "\n",
      "EPOCH 78 ...\n",
      "Training Accuracy = 0.998\n",
      "Validation Accuracy = 0.945\n",
      "\n",
      "EPOCH 79 ...\n",
      "Training Accuracy = 0.997\n",
      "Validation Accuracy = 0.939\n",
      "\n",
      "EPOCH 80 ...\n",
      "Training Accuracy = 0.999\n",
      "Validation Accuracy = 0.954\n",
      "\n",
      "EPOCH 81 ...\n",
      "Training Accuracy = 1.000\n",
      "Validation Accuracy = 0.957\n",
      "\n",
      "EPOCH 82 ...\n",
      "Training Accuracy = 1.000\n",
      "Validation Accuracy = 0.960\n",
      "\n",
      "EPOCH 83 ...\n",
      "Training Accuracy = 1.000\n",
      "Validation Accuracy = 0.960\n",
      "\n",
      "EPOCH 84 ...\n",
      "Training Accuracy = 1.000\n",
      "Validation Accuracy = 0.961\n",
      "\n",
      "EPOCH 85 ...\n",
      "Training Accuracy = 1.000\n",
      "Validation Accuracy = 0.961\n",
      "\n",
      "Model saved\n"
     ]
    }
   ],
   "source": [
    "\n",
    "EPOCHS = 85\n",
    "BATCH_SIZE = 50\n",
    "\n",
    "with tf.Session() as sess:\n",
    "    sess.run(tf.global_variables_initializer())\n",
    "    num_examples = len(x_train_norm)\n",
    "    \n",
    "    print(\"Training...\")\n",
    "    print()\n",
    "    for i in range(EPOCHS):\n",
    "        #X_t, y_t = shuffle(x_train_gray, yy)\n",
    "        X_t, y_t = shuffle(x_train_norm, yy)\n",
    "        for offset in range(0, num_examples, BATCH_SIZE):\n",
    "            end = offset + BATCH_SIZE\n",
    "            batch_x, batch_y = X_t[offset:end], y_t[offset:end]\n",
    "            sess.run(training_operation, feed_dict={x: batch_x, y: batch_y})\n",
    "        \n",
    "        training_accuracy = evaluate(x_train_norm, yy)\n",
    "        validation_accuracy = evaluate(x_valid_norm, y_valid)\n",
    "        print(\"EPOCH {} ...\".format(i+1))\n",
    "        print(\"Training Accuracy = {:.3f}\".format(training_accuracy))\n",
    "        print(\"Validation Accuracy = {:.3f}\".format(validation_accuracy))\n",
    "        print()\n",
    "        \n",
    "    saver.save(sess, './lenet')\n",
    "    print(\"Model saved\")"
   ]
  },
  {
   "cell_type": "code",
   "execution_count": 16,
   "metadata": {
    "collapsed": false,
    "deletable": true,
    "editable": true
   },
   "outputs": [
    {
     "name": "stdout",
     "output_type": "stream",
     "text": [
      "INFO:tensorflow:Restoring parameters from ./lenet\n",
      "Test Set Accuracy = 0.942\n"
     ]
    }
   ],
   "source": [
    "with tf.Session() as sess:\n",
    "    sess.run(tf.global_variables_initializer())\n",
    "    saver2 = tf.train.import_meta_graph('./lenet.meta')\n",
    "    saver2.restore(sess, \"./lenet\")\n",
    "    test_x, test_labels = shuffle(x_test_norm, y_test)\n",
    "    test_accuracy = evaluate(test_x, test_labels)\n",
    "    print(\"Test Set Accuracy = {:.3f}\".format(test_accuracy))"
   ]
  },
  {
   "cell_type": "markdown",
   "metadata": {
    "deletable": true,
    "editable": true
   },
   "source": [
    "---\n",
    "\n",
    "## Step 3: Test a Model on New Images\n",
    "\n",
    "To give yourself more insight into how your model is working, download at least five pictures of German traffic signs from the web and use your model to predict the traffic sign type.\n",
    "\n",
    "You may find `signnames.csv` useful as it contains mappings from the class id (integer) to the actual sign name."
   ]
  },
  {
   "cell_type": "markdown",
   "metadata": {
    "deletable": true,
    "editable": true
   },
   "source": [
    "### Load and Output the Images"
   ]
  },
  {
   "cell_type": "code",
   "execution_count": 48,
   "metadata": {
    "collapsed": false,
    "deletable": true,
    "editable": true
   },
   "outputs": [
    {
     "data": {
      "image/png": "[encoded data removed]",
      "text/plain": [
       "<matplotlib.figure.Figure at 0x1d559b87a20>"
      ]
     },
     "metadata": {},
     "output_type": "display_data"
    },
    {
     "data": {
      "image/png": "[encoded data removed]",
      "text/plain": [
       "<matplotlib.figure.Figure at 0x1d6da252eb8>"
      ]
     },
     "metadata": {},
     "output_type": "display_data"
    },
    {
     "data": {
      "image/png": "[encoded data removed]",
      "text/plain": [
       "<matplotlib.figure.Figure at 0x1d6d9d81048>"
      ]
     },
     "metadata": {},
     "output_type": "display_data"
    },
    {
     "data": {
      "image/png": "[encoded data removed]",
      "text/plain": [
       "<matplotlib.figure.Figure at 0x1d6da24bcf8>"
      ]
     },
     "metadata": {},
     "output_type": "display_data"
    },
    {
     "data": {
      "image/png": "[encoded data removed]",
      "text/plain": [
       "<matplotlib.figure.Figure at 0x1d6da245f60>"
      ]
     },
     "metadata": {},
     "output_type": "display_data"
    },
    {
     "name": "stdout",
     "output_type": "stream",
     "text": [
      "Gray data shape:  (5, 32, 32, 1)\n",
      "Gray data max: 255.0, min: 3.0, average: 152.75533854166665\n",
      "\n",
      "Norm data shape:  (5, 32, 32, 1)\n",
      "Norm data max: 1.0, min: 0.011764705882352941, average: 0.5990405433006536\n"
     ]
    }
   ],
   "source": [
    "### Load the images and plot them here.\n",
    "### Feel free to use as many code cells as needed.\n",
    "from PIL import Image\n",
    "\n",
    "\n",
    "#TODO: load images\n",
    "filelist = ['traffic-signs-data/sign1.jpg', 'traffic-signs-data/sign2.jpg', \n",
    "            'traffic-signs-data/sign3.jpg', 'traffic-signs-data/sign4.jpg',\n",
    "            'traffic-signs-data/sign5.jpg']\n",
    "\n",
    "#Get the images\n",
    "size = 32, 32\n",
    "images_res = []\n",
    "\n",
    "for name in filelist:\n",
    "    im = Image.open(name)\n",
    "    im = im.resize(size)\n",
    "    images_res.append(np.array(im))\n",
    "\n",
    "images_res = np.array(images_res)\n",
    "for image in images_res:\n",
    "    plt.imshow(image, cmap=\"gray\")\n",
    "    plt.show()\n",
    "\n",
    "x_gray = np.sum(images_res/3, axis=3, keepdims=True) # to grayscale\n",
    "x_norm = x_gray * (255 / x_gray.max()) /255 # normalisation\n",
    "\n",
    "print(\"Gray data shape: \", x_gray.shape)\n",
    "print(\"Gray data max: {}, min: {}, average: {}\"\n",
    "      .format(np.max(x_gray), np.min(x_gray), np.mean(x_gray)))\n",
    "\n",
    "print()\n",
    "print(\"Norm data shape: \", x_norm.shape)\n",
    "print(\"Norm data max: {}, min: {}, average: {}\"\n",
    "      .format(np.max(x_norm), np.min(x_norm), np.mean(x_norm)))"
   ]
  },
  {
   "cell_type": "markdown",
   "metadata": {
    "deletable": true,
    "editable": true
   },
   "source": [
    "### Predict the Sign Type for Each Image"
   ]
  },
  {
   "cell_type": "code",
   "execution_count": 44,
   "metadata": {
    "collapsed": false,
    "deletable": true,
    "editable": true
   },
   "outputs": [
    {
     "name": "stdout",
     "output_type": "stream",
     "text": [
      "INFO:tensorflow:Restoring parameters from ./lenet\n",
      "[ 0.02367301  0.02614939  0.02059382  0.02349611  0.02002899  0.01939471\n",
      "  0.02133538  0.02261519  0.02441048  0.0239727   0.02489801  0.02708526\n",
      "  0.02367058  0.02207922  0.02009857  0.02362055  0.02415054  0.02362652\n",
      "  0.0200277   0.02164567  0.02514369  0.0217805   0.02150721  0.02281003\n",
      "  0.01977292  0.0252852   0.02465495  0.02767554  0.02176414  0.02191569\n",
      "  0.0258038   0.02156719  0.02093627  0.0272851   0.02563597  0.02718179\n",
      "  0.02826737  0.02506869  0.02169588  0.02336874  0.01967724  0.02173213\n",
      "  0.02289755]\n"
     ]
    }
   ],
   "source": [
    "### Run the predictions here and use the model to output the prediction for each image.\n",
    "### Make sure to pre-process the images with the same pre-processing pipeline used earlier.\n",
    "### Feel free to use as many code cells as needed.\n",
    "tf.reset_default_graph()\n",
    "\n",
    "xm = tf.placeholder(tf.float32, (None, 32, 32, 1))\n",
    "test_logits = LeNet(xm)\n",
    "\n",
    "with tf.Session() as s:\n",
    "    s.run(tf.global_variables_initializer())\n",
    "    saver3 = tf.train.import_meta_graph(\"./lenet.meta\")\n",
    "    saver3.restore(s, \"./lenet\")\n",
    "    predictions = s.run(tf.nn.softmax(test_logits), feed_dict={xm: x_norm})\n",
    "    print(predictions[0])\n",
    "    "
   ]
  },
  {
   "cell_type": "markdown",
   "metadata": {
    "deletable": true,
    "editable": true
   },
   "source": [
    "### Analyze Performance"
   ]
  },
  {
   "cell_type": "code",
   "execution_count": 38,
   "metadata": {
    "collapsed": false,
    "deletable": true,
    "editable": true
   },
   "outputs": [
    {
     "name": "stdout",
     "output_type": "stream",
     "text": [
      "14\n",
      "10\n",
      "14\n",
      "4\n",
      "4\n",
      "0.2\n"
     ]
    }
   ],
   "source": [
    "### Calculate the accuracy for these 5 new images. \n",
    "### For example, if the model predicted 1 out of 5 signs correctly, it's 20% accurate on these new images.\n",
    "my_labels = [14, 12, 17, 1, 12]\n",
    "\n",
    "correct = 0\n",
    "\n",
    "for i, val in enumerate(predictions):\n",
    "    max_val = np.argmax(val)\n",
    "    print(max_val)\n",
    "    if max_val == my_labels[i]:\n",
    "        correct += 1\n",
    "\n",
    "print(correct/len(my_labels))\n",
    "    "
   ]
  },
  {
   "cell_type": "markdown",
   "metadata": {
    "deletable": true,
    "editable": true
   },
   "source": [
    "## This doesn't look so good\n",
    "only 20% correct"
   ]
  },
  {
   "cell_type": "markdown",
   "metadata": {
    "deletable": true,
    "editable": true
   },
   "source": [
    "### Output Top 5 Softmax Probabilities For Each Image Found on the Web"
   ]
  },
  {
   "cell_type": "markdown",
   "metadata": {
    "deletable": true,
    "editable": true
   },
   "source": [
    "For each of the new images, print out the model's softmax probabilities to show the **certainty** of the model's predictions (limit the output to the top 5 probabilities for each image). [`tf.nn.top_k`](https://www.tensorflow.org/versions/r0.12/api_docs/python/nn.html#top_k) could prove helpful here. \n",
    "\n",
    "The example below demonstrates how tf.nn.top_k can be used to find the top k predictions for each image.\n",
    "\n",
    "`tf.nn.top_k` will return the values and indices (class ids) of the top k predictions. So if k=3, for each sign, it'll return the 3 largest probabilities (out of a possible 43) and the correspoding class ids.\n",
    "\n",
    "Take this numpy array as an example. The values in the array represent predictions. The array contains softmax probabilities for five candidate images with six possible classes. `tf.nn.top_k` is used to choose the three classes with the highest probability:\n",
    "\n",
    "```\n",
    "# (5, 6) array\n",
    "a = np.array([[ 0.24879643,  0.07032244,  0.12641572,  0.34763842,  0.07893497,\n",
    "         0.12789202],\n",
    "       [ 0.28086119,  0.27569815,  0.08594638,  0.0178669 ,  0.18063401,\n",
    "         0.15899337],\n",
    "       [ 0.26076848,  0.23664738,  0.08020603,  0.07001922,  0.1134371 ,\n",
    "         0.23892179],\n",
    "       [ 0.11943333,  0.29198961,  0.02605103,  0.26234032,  0.1351348 ,\n",
    "         0.16505091],\n",
    "       [ 0.09561176,  0.34396535,  0.0643941 ,  0.16240774,  0.24206137,\n",
    "         0.09155967]])\n",
    "```\n",
    "\n",
    "Running it through `sess.run(tf.nn.top_k(tf.constant(a), k=3))` produces:\n",
    "\n",
    "```\n",
    "TopKV2(values=array([[ 0.34763842,  0.24879643,  0.12789202],\n",
    "       [ 0.28086119,  0.27569815,  0.18063401],\n",
    "       [ 0.26076848,  0.23892179,  0.23664738],\n",
    "       [ 0.29198961,  0.26234032,  0.16505091],\n",
    "       [ 0.34396535,  0.24206137,  0.16240774]]), indices=array([[3, 0, 5],\n",
    "       [0, 1, 4],\n",
    "       [0, 5, 1],\n",
    "       [1, 3, 5],\n",
    "       [1, 4, 3]], dtype=int32))\n",
    "```\n",
    "\n",
    "Looking just at the first row we get `[ 0.34763842,  0.24879643,  0.12789202]`, you can confirm these are the 3 largest probabilities in `a`. You'll also notice `[3, 0, 5]` are the corresponding indices."
   ]
  },
  {
   "cell_type": "code",
   "execution_count": 49,
   "metadata": {
    "collapsed": false,
    "deletable": true,
    "editable": true
   },
   "outputs": [
    {
     "name": "stdout",
     "output_type": "stream",
     "text": [
      "INFO:tensorflow:Restoring parameters from ./lenet\n",
      "TopKV2(values=array([[ 0.03002824,  0.02955225,  0.02882447,  0.02691371,  0.02678983],\n",
      "       [ 0.03174566,  0.0306766 ,  0.02865312,  0.02788214,  0.02696863],\n",
      "       [ 0.02766545,  0.02687309,  0.02629087,  0.02626337,  0.02623207],\n",
      "       [ 0.03018785,  0.02984264,  0.02776115,  0.02766726,  0.02734063],\n",
      "       [ 0.02869352,  0.02820409,  0.02767357,  0.02704698,  0.02652493]], dtype=float32), indices=array([[29, 15, 12, 14, 39],\n",
      "       [15, 29, 14, 32, 12],\n",
      "       [15, 29, 12, 39, 14],\n",
      "       [29, 15, 12, 32, 39],\n",
      "       [15, 29, 14, 12, 32]]))\n"
     ]
    }
   ],
   "source": [
    "### Print out the top five softmax probabilities for the predictions on the German traffic sign images found on the web. \n",
    "### Feel free to use as many code cells as needed.\n",
    "tf.reset_default_graph()\n",
    "\n",
    "xm2 = tf.placeholder(tf.float32, (None, 32, 32, 1))\n",
    "test_logits2 = LeNet(xm2)\n",
    "sm_l = tf.nn.softmax(test_logits2)\n",
    "top = tf.nn.top_k(sm_l, k=5)\n",
    "\n",
    "with tf.Session() as s:\n",
    "    s.run(tf.global_variables_initializer())\n",
    "    saver3 = tf.train.import_meta_graph(\"./lenet.meta\")\n",
    "    saver3.restore(s, \"./lenet\")\n",
    "    predictions = s.run(sm_l,feed_dict={xm2: x_norm})\n",
    "    top = s.run(top, feed_dict={xm2: x_norm})\n",
    "    print(top)\n",
    "    "
   ]
  },
  {
   "cell_type": "markdown",
   "metadata": {
    "deletable": true,
    "editable": true
   },
   "source": [
    "### Project Writeup\n",
    "\n",
    "Once you have completed the code implementation, document your results in a project writeup using this [template](https://github.com/udacity/CarND-Traffic-Sign-Classifier-Project/blob/master/writeup_template.md) as a guide. The writeup can be in a markdown or pdf file. "
   ]
  },
  {
   "cell_type": "markdown",
   "metadata": {
    "deletable": true,
    "editable": true
   },
   "source": [
    "> **Note**: Once you have completed all of the code implementations and successfully answered each question above, you may finalize your work by exporting the iPython Notebook as an HTML document. You can do this by using the menu above and navigating to  \\n\",\n",
    "    \"**File -> Download as -> HTML (.html)**. Include the finished document along with this notebook as your submission."
   ]
  },
  {
   "cell_type": "markdown",
   "metadata": {
    "deletable": true,
    "editable": true
   },
   "source": [
    "---\n",
    "\n",
    "## Step 4 (Optional): Visualize the Neural Network's State with Test Images\n",
    "\n",
    " This Section is not required to complete but acts as an additional excersise for understaning the output of a neural network's weights. While neural networks can be a great learning device they are often referred to as a black box. We can understand what the weights of a neural network look like better by plotting their feature maps. After successfully training your neural network you can see what it's feature maps look like by plotting the output of the network's weight layers in response to a test stimuli image. From these plotted feature maps, it's possible to see what characteristics of an image the network finds interesting. For a sign, maybe the inner network feature maps react with high activation to the sign's boundary outline or to the contrast in the sign's painted symbol.\n",
    "\n",
    " Provided for you below is the function code that allows you to get the visualization output of any tensorflow weight layer you want. The inputs to the function should be a stimuli image, one used during training or a new one you provided, and then the tensorflow variable name that represents the layer's state during the training process, for instance if you wanted to see what the [LeNet lab's](https://classroom.udacity.com/nanodegrees/nd013/parts/fbf77062-5703-404e-b60c-95b78b2f3f9e/modules/6df7ae49-c61c-4bb2-a23e-6527e69209ec/lessons/601ae704-1035-4287-8b11-e2c2716217ad/concepts/d4aca031-508f-4e0b-b493-e7b706120f81) feature maps looked like for it's second convolutional layer you could enter conv2 as the tf_activation variable.\n",
    "\n",
    "For an example of what feature map outputs look like, check out NVIDIA's results in their paper [End-to-End Deep Learning for Self-Driving Cars](https://devblogs.nvidia.com/parallelforall/deep-learning-self-driving-cars/) in the section Visualization of internal CNN State. NVIDIA was able to show that their network's inner weights had high activations to road boundary lines by comparing feature maps from an image with a clear path to one without. Try experimenting with a similar test to show that your trained network's weights are looking for interesting features, whether it's looking at differences in feature maps from images with or without a sign, or even what feature maps look like in a trained network vs a completely untrained one on the same sign image.\n",
    "\n",
    "<figure>\n",
    " <img src=\"visualize_cnn.png\" width=\"380\" alt=\"Combined Image\" />\n",
    " <figcaption>\n",
    " <p></p> \n",
    " <p style=\"text-align: center;\"> Your output should look something like this (above)</p> \n",
    " </figcaption>\n",
    "</figure>\n",
    " <p></p> \n"
   ]
  },
  {
   "cell_type": "code",
   "execution_count": 21,
   "metadata": {
    "collapsed": true,
    "deletable": true,
    "editable": true
   },
   "outputs": [],
   "source": [
    "### Visualize your network's feature maps here.\n",
    "### Feel free to use as many code cells as needed.\n",
    "\n",
    "# image_input: the test image being fed into the network to produce the feature maps\n",
    "# tf_activation: should be a tf variable name used during your training procedure that represents the calculated state of a specific weight layer\n",
    "# activation_min/max: can be used to view the activation contrast in more detail, by default matplot sets min and max to the actual min and max values of the output\n",
    "# plt_num: used to plot out multiple different weight feature map sets on the same block, just extend the plt number for each new feature map entry\n",
    "\n",
    "def outputFeatureMap(image_input, tf_activation, activation_min=-1, activation_max=-1 ,plt_num=1):\n",
    "    # Here make sure to preprocess your image_input in a way your network expects\n",
    "    # with size, normalization, ect if needed\n",
    "    # image_input =\n",
    "    # Note: x should be the same name as your network's tensorflow data placeholder variable\n",
    "    # If you get an error tf_activation is not defined it may be having trouble accessing the variable from inside a function\n",
    "    activation = tf_activation.eval(session=sess,feed_dict={x : image_input})\n",
    "    featuremaps = activation.shape[3]\n",
    "    plt.figure(plt_num, figsize=(15,15))\n",
    "    for featuremap in range(featuremaps):\n",
    "        plt.subplot(6,8, featuremap+1) # sets the number of feature maps to show on each row and column\n",
    "        plt.title('FeatureMap ' + str(featuremap)) # displays the feature map number\n",
    "        if activation_min != -1 & activation_max != -1:\n",
    "            plt.imshow(activation[0,:,:, featuremap], interpolation=\"nearest\", vmin =activation_min, vmax=activation_max, cmap=\"gray\")\n",
    "        elif activation_max != -1:\n",
    "            plt.imshow(activation[0,:,:, featuremap], interpolation=\"nearest\", vmax=activation_max, cmap=\"gray\")\n",
    "        elif activation_min !=-1:\n",
    "            plt.imshow(activation[0,:,:, featuremap], interpolation=\"nearest\", vmin=activation_min, cmap=\"gray\")\n",
    "        else:\n",
    "            plt.imshow(activation[0,:,:, featuremap], interpolation=\"nearest\", cmap=\"gray\")"
   ]
  },
  {
   "cell_type": "code",
   "execution_count": null,
   "metadata": {
    "collapsed": true
   },
   "outputs": [],
   "source": []
  }
 ],
 "metadata": {
  "anaconda-cloud": {},
  "kernelspec": {
   "display_name": "Python 3",
   "language": "python",
   "name": "python3"
  },
  "language_info": {
   "codemirror_mode": {
    "name": "ipython",
    "version": 3
   },
   "file_extension": ".py",
   "mimetype": "text/x-python",
   "name": "python",
   "nbconvert_exporter": "python",
   "pygments_lexer": "ipython3",
   "version": "3.5.4"
  }
 },
 "nbformat": 4,
 "nbformat_minor": 1
}
